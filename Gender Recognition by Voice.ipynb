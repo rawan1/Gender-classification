{
 "cells": [
  {
   "cell_type": "code",
   "execution_count": 68,
   "id": "9dc0e933",
   "metadata": {},
   "outputs": [],
   "source": [
    "import pandas as pd\n",
    "import numpy as np\n",
    "import matplotlib.pyplot as plt\n",
    "from sklearn.linear_model import LogisticRegression\n",
    "from sklearn.tree import DecisionTreeClassifier\n",
    "from sklearn.ensemble import RandomForestClassifier\n",
    "from xgboost import XGBClassifier\n",
    "from sklearn.svm import SVC\n",
    "import scipy.stats\n",
    "from sklearn.metrics import precision_recall_fscore_support\n",
    "import matplotlib.pyplot as plt\n",
    "import seaborn as sns\n"
   ]
  },
  {
   "cell_type": "markdown",
   "id": "a4ad79cc",
   "metadata": {},
   "source": [
    "### Dataset\n",
    "the dataset is released by Kory Becker on Kaggle under CC BY-NC-SA 4.0 License.\n",
    "* meanfreq : mean frequency (in kHz)\n",
    "* sd : standard deviation of frequency\n",
    "* median : median frequency (in kHz)\n",
    "* Q25 : first quantile (in kHz)\n",
    "* Q75 : third quantile (in kHz)\n",
    "* IQR : interquantile range (in kHz)\n",
    "* skew : skewness\n",
    "* kurt : kurtosis\n",
    "* sp.ent : spectral entropy\n",
    "* sfm : spectral flatness\n",
    "* mode : mode frequency\n",
    "* centroid : frequency centroid\n",
    "* meanfun : average of fundamental frequency measured across acoustic signal\n",
    "* minfun : minimum fundamental frequency measured across acoustic signal\n",
    "* maxfun : maximum fundamental frequency measured across acoustic signal\n",
    "* meandom : average of dominant frequency measured across acoustic signal\n",
    "* mindom : minimum of dominant frequency measured across acoustic signal\n",
    "* maxdom : maximum of dominant frequency measured across acoustic signal\n",
    "* dfrange : range of dominant frequency measured across acoustic signal\n",
    "* modindx : modulation index. Calculated as the accumulated absolute difference between adjacent measurements of fundamental frequencies divided by the frequency range\n",
    "* label : male or female"
   ]
  },
  {
   "cell_type": "code",
   "execution_count": 100,
   "id": "c36f4904",
   "metadata": {
    "scrolled": true
   },
   "outputs": [
    {
     "data": {
      "text/html": [
       "<div>\n",
       "<style scoped>\n",
       "    .dataframe tbody tr th:only-of-type {\n",
       "        vertical-align: middle;\n",
       "    }\n",
       "\n",
       "    .dataframe tbody tr th {\n",
       "        vertical-align: top;\n",
       "    }\n",
       "\n",
       "    .dataframe thead th {\n",
       "        text-align: right;\n",
       "    }\n",
       "</style>\n",
       "<table border=\"1\" class=\"dataframe\">\n",
       "  <thead>\n",
       "    <tr style=\"text-align: right;\">\n",
       "      <th></th>\n",
       "      <th>meanfreq</th>\n",
       "      <th>sd</th>\n",
       "      <th>median</th>\n",
       "      <th>Q25</th>\n",
       "      <th>Q75</th>\n",
       "      <th>IQR</th>\n",
       "      <th>skew</th>\n",
       "      <th>kurt</th>\n",
       "      <th>sp.ent</th>\n",
       "      <th>sfm</th>\n",
       "      <th>...</th>\n",
       "      <th>centroid</th>\n",
       "      <th>meanfun</th>\n",
       "      <th>minfun</th>\n",
       "      <th>maxfun</th>\n",
       "      <th>meandom</th>\n",
       "      <th>mindom</th>\n",
       "      <th>maxdom</th>\n",
       "      <th>dfrange</th>\n",
       "      <th>modindx</th>\n",
       "      <th>label</th>\n",
       "    </tr>\n",
       "  </thead>\n",
       "  <tbody>\n",
       "    <tr>\n",
       "      <th>0</th>\n",
       "      <td>0.059781</td>\n",
       "      <td>0.064241</td>\n",
       "      <td>0.032027</td>\n",
       "      <td>0.015071</td>\n",
       "      <td>0.090193</td>\n",
       "      <td>0.075122</td>\n",
       "      <td>12.863462</td>\n",
       "      <td>274.402906</td>\n",
       "      <td>0.893369</td>\n",
       "      <td>0.491918</td>\n",
       "      <td>...</td>\n",
       "      <td>0.059781</td>\n",
       "      <td>0.084279</td>\n",
       "      <td>0.015702</td>\n",
       "      <td>0.275862</td>\n",
       "      <td>0.007812</td>\n",
       "      <td>0.007812</td>\n",
       "      <td>0.007812</td>\n",
       "      <td>0.000000</td>\n",
       "      <td>0.000000</td>\n",
       "      <td>male</td>\n",
       "    </tr>\n",
       "    <tr>\n",
       "      <th>1</th>\n",
       "      <td>0.066009</td>\n",
       "      <td>0.067310</td>\n",
       "      <td>0.040229</td>\n",
       "      <td>0.019414</td>\n",
       "      <td>0.092666</td>\n",
       "      <td>0.073252</td>\n",
       "      <td>22.423285</td>\n",
       "      <td>634.613855</td>\n",
       "      <td>0.892193</td>\n",
       "      <td>0.513724</td>\n",
       "      <td>...</td>\n",
       "      <td>0.066009</td>\n",
       "      <td>0.107937</td>\n",
       "      <td>0.015826</td>\n",
       "      <td>0.250000</td>\n",
       "      <td>0.009014</td>\n",
       "      <td>0.007812</td>\n",
       "      <td>0.054688</td>\n",
       "      <td>0.046875</td>\n",
       "      <td>0.052632</td>\n",
       "      <td>male</td>\n",
       "    </tr>\n",
       "    <tr>\n",
       "      <th>2</th>\n",
       "      <td>0.077316</td>\n",
       "      <td>0.083829</td>\n",
       "      <td>0.036718</td>\n",
       "      <td>0.008701</td>\n",
       "      <td>0.131908</td>\n",
       "      <td>0.123207</td>\n",
       "      <td>30.757155</td>\n",
       "      <td>1024.927705</td>\n",
       "      <td>0.846389</td>\n",
       "      <td>0.478905</td>\n",
       "      <td>...</td>\n",
       "      <td>0.077316</td>\n",
       "      <td>0.098706</td>\n",
       "      <td>0.015656</td>\n",
       "      <td>0.271186</td>\n",
       "      <td>0.007990</td>\n",
       "      <td>0.007812</td>\n",
       "      <td>0.015625</td>\n",
       "      <td>0.007812</td>\n",
       "      <td>0.046512</td>\n",
       "      <td>male</td>\n",
       "    </tr>\n",
       "    <tr>\n",
       "      <th>3</th>\n",
       "      <td>0.151228</td>\n",
       "      <td>0.072111</td>\n",
       "      <td>0.158011</td>\n",
       "      <td>0.096582</td>\n",
       "      <td>0.207955</td>\n",
       "      <td>0.111374</td>\n",
       "      <td>1.232831</td>\n",
       "      <td>4.177296</td>\n",
       "      <td>0.963322</td>\n",
       "      <td>0.727232</td>\n",
       "      <td>...</td>\n",
       "      <td>0.151228</td>\n",
       "      <td>0.088965</td>\n",
       "      <td>0.017798</td>\n",
       "      <td>0.250000</td>\n",
       "      <td>0.201497</td>\n",
       "      <td>0.007812</td>\n",
       "      <td>0.562500</td>\n",
       "      <td>0.554688</td>\n",
       "      <td>0.247119</td>\n",
       "      <td>male</td>\n",
       "    </tr>\n",
       "    <tr>\n",
       "      <th>4</th>\n",
       "      <td>0.135120</td>\n",
       "      <td>0.079146</td>\n",
       "      <td>0.124656</td>\n",
       "      <td>0.078720</td>\n",
       "      <td>0.206045</td>\n",
       "      <td>0.127325</td>\n",
       "      <td>1.101174</td>\n",
       "      <td>4.333713</td>\n",
       "      <td>0.971955</td>\n",
       "      <td>0.783568</td>\n",
       "      <td>...</td>\n",
       "      <td>0.135120</td>\n",
       "      <td>0.106398</td>\n",
       "      <td>0.016931</td>\n",
       "      <td>0.266667</td>\n",
       "      <td>0.712812</td>\n",
       "      <td>0.007812</td>\n",
       "      <td>5.484375</td>\n",
       "      <td>5.476562</td>\n",
       "      <td>0.208274</td>\n",
       "      <td>male</td>\n",
       "    </tr>\n",
       "  </tbody>\n",
       "</table>\n",
       "<p>5 rows × 21 columns</p>\n",
       "</div>"
      ],
      "text/plain": [
       "   meanfreq        sd    median       Q25       Q75       IQR       skew  \\\n",
       "0  0.059781  0.064241  0.032027  0.015071  0.090193  0.075122  12.863462   \n",
       "1  0.066009  0.067310  0.040229  0.019414  0.092666  0.073252  22.423285   \n",
       "2  0.077316  0.083829  0.036718  0.008701  0.131908  0.123207  30.757155   \n",
       "3  0.151228  0.072111  0.158011  0.096582  0.207955  0.111374   1.232831   \n",
       "4  0.135120  0.079146  0.124656  0.078720  0.206045  0.127325   1.101174   \n",
       "\n",
       "          kurt    sp.ent       sfm  ...  centroid   meanfun    minfun  \\\n",
       "0   274.402906  0.893369  0.491918  ...  0.059781  0.084279  0.015702   \n",
       "1   634.613855  0.892193  0.513724  ...  0.066009  0.107937  0.015826   \n",
       "2  1024.927705  0.846389  0.478905  ...  0.077316  0.098706  0.015656   \n",
       "3     4.177296  0.963322  0.727232  ...  0.151228  0.088965  0.017798   \n",
       "4     4.333713  0.971955  0.783568  ...  0.135120  0.106398  0.016931   \n",
       "\n",
       "     maxfun   meandom    mindom    maxdom   dfrange   modindx  label  \n",
       "0  0.275862  0.007812  0.007812  0.007812  0.000000  0.000000   male  \n",
       "1  0.250000  0.009014  0.007812  0.054688  0.046875  0.052632   male  \n",
       "2  0.271186  0.007990  0.007812  0.015625  0.007812  0.046512   male  \n",
       "3  0.250000  0.201497  0.007812  0.562500  0.554688  0.247119   male  \n",
       "4  0.266667  0.712812  0.007812  5.484375  5.476562  0.208274   male  \n",
       "\n",
       "[5 rows x 21 columns]"
      ]
     },
     "execution_count": 100,
     "metadata": {},
     "output_type": "execute_result"
    }
   ],
   "source": [
    "data = pd.read_csv(\"voiceDataSet.csv\")\n",
    "\n",
    "data.head()"
   ]
  },
  {
   "cell_type": "markdown",
   "id": "e213042c",
   "metadata": {},
   "source": [
    "### Data columns features"
   ]
  },
  {
   "cell_type": "code",
   "execution_count": 98,
   "id": "7fe7a0b8",
   "metadata": {},
   "outputs": [
    {
     "data": {
      "text/plain": [
       "Index(['meanfreq', 'sd', 'median', 'Q25', 'Q75', 'IQR', 'skew', 'kurt',\n",
       "       'sp.ent', 'sfm', 'mode', 'centroid', 'meanfun', 'minfun', 'maxfun',\n",
       "       'meandom', 'mindom', 'maxdom', 'dfrange', 'modindx', 'label'],\n",
       "      dtype='object')"
      ]
     },
     "execution_count": 98,
     "metadata": {},
     "output_type": "execute_result"
    }
   ],
   "source": [
    "data.columns\n"
   ]
  },
  {
   "cell_type": "code",
   "execution_count": 22,
   "id": "f1da4c4b",
   "metadata": {},
   "outputs": [
    {
     "data": {
      "text/html": [
       "<div>\n",
       "<style scoped>\n",
       "    .dataframe tbody tr th:only-of-type {\n",
       "        vertical-align: middle;\n",
       "    }\n",
       "\n",
       "    .dataframe tbody tr th {\n",
       "        vertical-align: top;\n",
       "    }\n",
       "\n",
       "    .dataframe thead th {\n",
       "        text-align: right;\n",
       "    }\n",
       "</style>\n",
       "<table border=\"1\" class=\"dataframe\">\n",
       "  <thead>\n",
       "    <tr style=\"text-align: right;\">\n",
       "      <th></th>\n",
       "      <th>meanfreq</th>\n",
       "      <th>sd</th>\n",
       "      <th>median</th>\n",
       "      <th>Q25</th>\n",
       "      <th>Q75</th>\n",
       "      <th>IQR</th>\n",
       "      <th>skew</th>\n",
       "      <th>kurt</th>\n",
       "      <th>sp.ent</th>\n",
       "      <th>sfm</th>\n",
       "      <th>mode</th>\n",
       "      <th>centroid</th>\n",
       "      <th>meanfun</th>\n",
       "      <th>minfun</th>\n",
       "      <th>maxfun</th>\n",
       "      <th>meandom</th>\n",
       "      <th>mindom</th>\n",
       "      <th>maxdom</th>\n",
       "      <th>dfrange</th>\n",
       "      <th>modindx</th>\n",
       "    </tr>\n",
       "    <tr>\n",
       "      <th>label</th>\n",
       "      <th></th>\n",
       "      <th></th>\n",
       "      <th></th>\n",
       "      <th></th>\n",
       "      <th></th>\n",
       "      <th></th>\n",
       "      <th></th>\n",
       "      <th></th>\n",
       "      <th></th>\n",
       "      <th></th>\n",
       "      <th></th>\n",
       "      <th></th>\n",
       "      <th></th>\n",
       "      <th></th>\n",
       "      <th></th>\n",
       "      <th></th>\n",
       "      <th></th>\n",
       "      <th></th>\n",
       "      <th></th>\n",
       "      <th></th>\n",
       "    </tr>\n",
       "  </thead>\n",
       "  <tbody>\n",
       "    <tr>\n",
       "      <th>female</th>\n",
       "      <td>1584</td>\n",
       "      <td>1584</td>\n",
       "      <td>1584</td>\n",
       "      <td>1584</td>\n",
       "      <td>1584</td>\n",
       "      <td>1584</td>\n",
       "      <td>1584</td>\n",
       "      <td>1584</td>\n",
       "      <td>1584</td>\n",
       "      <td>1584</td>\n",
       "      <td>1584</td>\n",
       "      <td>1584</td>\n",
       "      <td>1584</td>\n",
       "      <td>1584</td>\n",
       "      <td>1584</td>\n",
       "      <td>1584</td>\n",
       "      <td>1584</td>\n",
       "      <td>1584</td>\n",
       "      <td>1584</td>\n",
       "      <td>1584</td>\n",
       "    </tr>\n",
       "    <tr>\n",
       "      <th>male</th>\n",
       "      <td>1584</td>\n",
       "      <td>1584</td>\n",
       "      <td>1584</td>\n",
       "      <td>1584</td>\n",
       "      <td>1584</td>\n",
       "      <td>1584</td>\n",
       "      <td>1584</td>\n",
       "      <td>1584</td>\n",
       "      <td>1584</td>\n",
       "      <td>1584</td>\n",
       "      <td>1584</td>\n",
       "      <td>1584</td>\n",
       "      <td>1584</td>\n",
       "      <td>1584</td>\n",
       "      <td>1584</td>\n",
       "      <td>1584</td>\n",
       "      <td>1584</td>\n",
       "      <td>1584</td>\n",
       "      <td>1584</td>\n",
       "      <td>1584</td>\n",
       "    </tr>\n",
       "  </tbody>\n",
       "</table>\n",
       "</div>"
      ],
      "text/plain": [
       "        meanfreq    sd  median   Q25   Q75   IQR  skew  kurt  sp.ent   sfm  \\\n",
       "label                                                                        \n",
       "female      1584  1584    1584  1584  1584  1584  1584  1584    1584  1584   \n",
       "male        1584  1584    1584  1584  1584  1584  1584  1584    1584  1584   \n",
       "\n",
       "        mode  centroid  meanfun  minfun  maxfun  meandom  mindom  maxdom  \\\n",
       "label                                                                      \n",
       "female  1584      1584     1584    1584    1584     1584    1584    1584   \n",
       "male    1584      1584     1584    1584    1584     1584    1584    1584   \n",
       "\n",
       "        dfrange  modindx  \n",
       "label                     \n",
       "female     1584     1584  \n",
       "male       1584     1584  "
      ]
     },
     "execution_count": 22,
     "metadata": {},
     "output_type": "execute_result"
    }
   ],
   "source": [
    "data.groupby(\"label\").count()"
   ]
  },
  {
   "cell_type": "markdown",
   "id": "a0f16f82",
   "metadata": {},
   "source": [
    "Encoding the label column. Female to 0 and male to 1"
   ]
  },
  {
   "cell_type": "code",
   "execution_count": 23,
   "id": "c1daf841",
   "metadata": {},
   "outputs": [
    {
     "data": {
      "text/plain": [
       "{'female': 0, 'male': 1}"
      ]
     },
     "execution_count": 23,
     "metadata": {},
     "output_type": "execute_result"
    }
   ],
   "source": [
    "class_mapping = {label: idx for idx, label in enumerate(np.unique(data['label']))}\n",
    "class_mapping"
   ]
  },
  {
   "cell_type": "code",
   "execution_count": 24,
   "id": "7a5b6eda",
   "metadata": {},
   "outputs": [],
   "source": [
    "data['label'] = data['label'].map(class_mapping)\n"
   ]
  },
  {
   "cell_type": "code",
   "execution_count": null,
   "id": "536db046",
   "metadata": {},
   "outputs": [],
   "source": []
  },
  {
   "cell_type": "markdown",
   "id": "3ed78147",
   "metadata": {},
   "source": [
    "# Correlation between the features and the Target label"
   ]
  },
  {
   "cell_type": "code",
   "execution_count": 102,
   "id": "6567fa16",
   "metadata": {},
   "outputs": [
    {
     "data": {
      "text/plain": [
       "<AxesSubplot:>"
      ]
     },
     "execution_count": 102,
     "metadata": {},
     "output_type": "execute_result"
    },
    {
     "data": {
      "image/png": "[encoded data removed]",
      "text/plain": [
       "<Figure size 1080x1080 with 2 Axes>"
      ]
     },
     "metadata": {
      "needs_background": "light"
     },
     "output_type": "display_data"
    }
   ],
   "source": [
    "correlation_map = df.corr()\n",
    "obj = np.array(correlation_map)\n",
    "obj[np.tril_indices_from(obj)] = False\n",
    "fig,ax= plt.subplots()\n",
    "fig.set_size_inches(15,15)\n",
    "sns.heatmap(correlation_map, mask=obj,vmax=.7, square=True,annot=True)"
   ]
  },
  {
   "cell_type": "markdown",
   "id": "63febbe4",
   "metadata": {},
   "source": [
    "# Feature Importance"
   ]
  },
  {
   "cell_type": "code",
   "execution_count": null,
   "id": "696a493e",
   "metadata": {},
   "outputs": [],
   "source": []
  },
  {
   "cell_type": "code",
   "execution_count": null,
   "id": "a211adda",
   "metadata": {},
   "outputs": [],
   "source": []
  },
  {
   "cell_type": "markdown",
   "id": "27d0a312",
   "metadata": {},
   "source": [
    "# splitting the dataset into training and testing"
   ]
  },
  {
   "cell_type": "code",
   "execution_count": 26,
   "id": "5c4e84ee",
   "metadata": {},
   "outputs": [],
   "source": [
    "#Creating X,y and splitting the dataset into training and testing\n",
    "\n",
    "from sklearn.model_selection import train_test_split\n",
    "\n",
    "X, y = data.iloc[:, :-1].values, data.iloc[:, -1].values\n",
    "\n",
    "X_train, X_test, y_train, y_test =\\\n",
    "    train_test_split(X, y, \n",
    "                     test_size=0.3, \n",
    "                     random_state=0, \n",
    "                     stratify=y)"
   ]
  },
  {
   "cell_type": "markdown",
   "id": "9d8ea437",
   "metadata": {},
   "source": [
    "# without any standardization or normalization"
   ]
  },
  {
   "cell_type": "markdown",
   "id": "603f53ca",
   "metadata": {},
   "source": [
    "### Logistic Regression"
   ]
  },
  {
   "cell_type": "code",
   "execution_count": 30,
   "id": "102c2d25",
   "metadata": {},
   "outputs": [
    {
     "name": "stdout",
     "output_type": "stream",
     "text": [
      "Logistic Regression\n",
      "Accuracy on training set: 0.908\n",
      "Accuracy on test set: 0.912\n",
      "Precision, Recall and fscore: 0.9116719242902208 0.9116719242902208 0.9116719242902208\n"
     ]
    },
    {
     "name": "stderr",
     "output_type": "stream",
     "text": [
      "C:\\Users\\TOSHIBA\\anaconda3\\lib\\site-packages\\sklearn\\linear_model\\_logistic.py:814: ConvergenceWarning: lbfgs failed to converge (status=1):\n",
      "STOP: TOTAL NO. of ITERATIONS REACHED LIMIT.\n",
      "\n",
      "Increase the number of iterations (max_iter) or scale the data as shown in:\n",
      "    https://scikit-learn.org/stable/modules/preprocessing.html\n",
      "Please also refer to the documentation for alternative solver options:\n",
      "    https://scikit-learn.org/stable/modules/linear_model.html#logistic-regression\n",
      "  n_iter_i = _check_optimize_result(\n"
     ]
    }
   ],
   "source": [
    "logit = LogisticRegression()\n",
    "logit.fit(X_train, y_train)\n",
    "\n",
    "print(\"Logistic Regression\")\n",
    "print(\"Accuracy on training set: {:.3f}\".format(logit.score(X_train, y_train)))\n",
    "print(\"Accuracy on test set: {:.3f}\".format(logit.score(X_test, y_test)))\n",
    "\n",
    "y_pred_logit = logit.predict(X_test)\n",
    "\n",
    "precision, recall, fscore, support = precision_recall_fscore_support(y_test, y_pred_logit, average='micro')\n",
    "print(\"Precision, Recall and fscore:\",precision, recall, fscore,)\n"
   ]
  },
  {
   "cell_type": "markdown",
   "id": "47ea42ea",
   "metadata": {},
   "source": [
    "### Decision Tree"
   ]
  },
  {
   "cell_type": "code",
   "execution_count": 33,
   "id": "36155288",
   "metadata": {},
   "outputs": [
    {
     "name": "stdout",
     "output_type": "stream",
     "text": [
      "Decision Tree\n",
      "Accuracy on training set: 0.983\n",
      "Accuracy on test set: 0.961\n",
      "Precision, Recall and fscore: 0.961093585699264 0.961093585699264 0.961093585699264\n"
     ]
    }
   ],
   "source": [
    "tree = DecisionTreeClassifier(random_state=0,max_depth=4)\n",
    "tree.fit(X_train, y_train)\n",
    "\n",
    "print(\"Decision Tree\")\n",
    "print(\"Accuracy on training set: {:.3f}\".format(tree.score(X_train, y_train)))\n",
    "print(\"Accuracy on test set: {:.3f}\".format(tree.score(X_test, y_test)))\n",
    "\n",
    "y_pred_tree = tree.predict(X_test)\n",
    "\n",
    "precision, recall, fscore, support = precision_recall_fscore_support(y_test, y_pred_tree, average='micro')\n",
    "print(\"Precision, Recall and fscore:\",precision, recall, fscore,)"
   ]
  },
  {
   "cell_type": "markdown",
   "id": "9f243cf1",
   "metadata": {},
   "source": [
    "## support vector machine model"
   ]
  },
  {
   "cell_type": "code",
   "execution_count": 35,
   "id": "578768bd",
   "metadata": {},
   "outputs": [
    {
     "name": "stdout",
     "output_type": "stream",
     "text": [
      "Support Vector Machine\n",
      "Accuracy on training set: 0.664\n",
      "Accuracy on test set: 0.680\n",
      "Precision, Recall and fscore: 0.6803364879074658 0.6803364879074658 0.6803364879074658\n"
     ]
    }
   ],
   "source": [
    "svm = SVC()\n",
    "svm.fit(X_train, y_train)\n",
    "\n",
    "print(\"Support Vector Machine\")\n",
    "print(\"Accuracy on training set: {:.3f}\".format(svm.score(X_train, y_train)))\n",
    "print(\"Accuracy on test set: {:.3f}\".format(svm.score(X_test, y_test)))\n",
    "\n",
    "y_pred_sm = svm.predict(X_test)\n",
    "\n",
    "precision, recall, fscore, support = precision_recall_fscore_support(y_test, y_pred_sm, average='micro')\n",
    "print(\"Precision, Recall and fscore:\",precision, recall, fscore,)"
   ]
  },
  {
   "cell_type": "markdown",
   "id": "3d739fb3",
   "metadata": {},
   "source": [
    "### Random Forest Classifier"
   ]
  },
  {
   "cell_type": "code",
   "execution_count": 44,
   "id": "f84e59dc",
   "metadata": {},
   "outputs": [
    {
     "name": "stdout",
     "output_type": "stream",
     "text": [
      "Random Forest Classifier\n",
      "Accuracy on training set: 0.966\n",
      "Accuracy on test set: 0.948\n",
      "Precision, Recall and fscore: 0.9484752891692955 0.9484752891692955 0.9484752891692955\n"
     ]
    }
   ],
   "source": [
    "model = RandomForestClassifier(n_estimators = 12 , max_depth = 3)\n",
    "model.fit(X_train, y_train)\n",
    "\n",
    "\n",
    "print(\"Random Forest Classifier\")\n",
    "print(\"Accuracy on training set: {:.3f}\".format(model.score(X_train, y_train)))\n",
    "print(\"Accuracy on test set: {:.3f}\".format(model.score(X_test, y_test)))\n",
    "\n",
    "y_pred_sm = model.predict(X_test)\n",
    "\n",
    "precision, recall, fscore, support = precision_recall_fscore_support(y_test, y_pred_sm, average='micro')\n",
    "print(\"Precision, Recall and fscore:\",precision, recall, fscore,)"
   ]
  },
  {
   "cell_type": "code",
   "execution_count": null,
   "id": "43ba8f31",
   "metadata": {},
   "outputs": [],
   "source": []
  },
  {
   "cell_type": "code",
   "execution_count": null,
   "id": "5787e27c",
   "metadata": {},
   "outputs": [],
   "source": []
  },
  {
   "cell_type": "markdown",
   "id": "ed337984",
   "metadata": {},
   "source": [
    "#  Standardizing the data for greater performance"
   ]
  },
  {
   "cell_type": "code",
   "execution_count": 45,
   "id": "e9edcede",
   "metadata": {},
   "outputs": [],
   "source": [
    "from sklearn.preprocessing import StandardScaler\n",
    "\n",
    "stdsc = StandardScaler()\n",
    "X_train_std = stdsc.fit_transform(X_train)\n",
    "X_test_std = stdsc.transform(X_test)"
   ]
  },
  {
   "cell_type": "markdown",
   "id": "c4334320",
   "metadata": {},
   "source": [
    "## logistic regression model"
   ]
  },
  {
   "cell_type": "code",
   "execution_count": 47,
   "id": "4a15d4ea",
   "metadata": {},
   "outputs": [
    {
     "name": "stdout",
     "output_type": "stream",
     "text": [
      "Logistic Regression\n",
      "Accuracy on training set: 0.978\n",
      "Accuracy on test set: 0.965\n",
      "Precision, Recall and fscore: 0.9652996845425867 0.9652996845425867 0.9652996845425867\n"
     ]
    }
   ],
   "source": [
    "logit = LogisticRegression()\n",
    "logit.fit(X_train_std, y_train)\n",
    "\n",
    "print(\"Logistic Regression\")\n",
    "print(\"Accuracy on training set: {:.3f}\".format(logit.score(X_train_std, y_train)))\n",
    "print(\"Accuracy on test set: {:.3f}\".format(logit.score(X_test_std, y_test)))\n",
    "\n",
    "y_pred_logit = logit.predict(X_test_std)\n",
    "\n",
    "precision, recall, fscore, support = precision_recall_fscore_support(y_test, y_pred_logit, average='micro')\n",
    "print(\"Precision, Recall and fscore:\",precision, recall, fscore,)\n"
   ]
  },
  {
   "cell_type": "markdown",
   "id": "9d965dfb",
   "metadata": {},
   "source": [
    "## decision tree model"
   ]
  },
  {
   "cell_type": "code",
   "execution_count": 50,
   "id": "b8348e37",
   "metadata": {},
   "outputs": [
    {
     "name": "stdout",
     "output_type": "stream",
     "text": [
      "Decision Tree\n",
      "Accuracy on training set: 0.983\n",
      "Accuracy on test set: 0.961\n",
      "Precision, Recall and fscore: 0.961093585699264 0.961093585699264 0.961093585699264\n"
     ]
    }
   ],
   "source": [
    "tree = DecisionTreeClassifier(random_state=0,max_depth=4)\n",
    "tree.fit(X_train_std, y_train)\n",
    "\n",
    "print(\"Decision Tree\")\n",
    "print(\"Accuracy on training set: {:.3f}\".format(tree.score(X_train_std, y_train)))\n",
    "print(\"Accuracy on test set: {:.3f}\".format(tree.score(X_test_std, y_test)))\n",
    "\n",
    "y_pred_tree = tree.predict(X_test_std)\n",
    "\n",
    "precision, recall, fscore, support = precision_recall_fscore_support(y_test, y_pred_tree, average='micro')\n",
    "print(\"Precision, Recall and fscore:\",precision, recall, fscore,)"
   ]
  },
  {
   "cell_type": "markdown",
   "id": "c9d27b30",
   "metadata": {},
   "source": [
    "## Random forest model"
   ]
  },
  {
   "cell_type": "code",
   "execution_count": 51,
   "id": "21b73d2c",
   "metadata": {},
   "outputs": [
    {
     "name": "stdout",
     "output_type": "stream",
     "text": [
      "Random Forest\n",
      "Accuracy on training set: 0.969\n",
      "Accuracy on test set: 0.948\n",
      "Precision, Recall and fscore: 0.9484752891692955 0.9484752891692955 0.9484752891692955\n"
     ]
    }
   ],
   "source": [
    "forest = RandomForestClassifier(n_estimators = 12 , max_depth = 3)\n",
    "forest.fit(X_train_std, y_train)\n",
    "\n",
    "print(\"Random Forest\")\n",
    "print(\"Accuracy on training set: {:.3f}\".format(forest.score(X_train_std, y_train)))\n",
    "print(\"Accuracy on test set: {:.3f}\".format(forest.score(X_test_std, y_test)))\n",
    "\n",
    "y_pred_forest = forest.predict(X_test_std)\n",
    "\n",
    "precision, recall, fscore, support = precision_recall_fscore_support(y_test, y_pred_forest, average='micro')\n",
    "print(\"Precision, Recall and fscore:\",precision, recall, fscore,)"
   ]
  },
  {
   "cell_type": "markdown",
   "id": "1e4837ee",
   "metadata": {},
   "source": [
    "# Feature Importance"
   ]
  },
  {
   "cell_type": "code",
   "execution_count": 55,
   "id": "92f2119b",
   "metadata": {},
   "outputs": [
    {
     "name": "stdout",
     "output_type": "stream",
     "text": [
      "[2.44825178e-02 1.19297422e-03 2.66021155e-02 1.44125194e-01\n",
      " 1.03869166e-04 1.51305529e-01 9.03902851e-05 3.23509121e-04\n",
      " 3.28413937e-02 3.13874622e-02 4.17932874e-03 1.65978300e-02\n",
      " 5.44623696e-01 8.46324144e-04 0.00000000e+00 5.06989420e-03\n",
      " 1.57567425e-02 0.00000000e+00 3.47424827e-04 1.23804544e-04]\n"
     ]
    }
   ],
   "source": [
    "print(forest.feature_importances_)\n"
   ]
  },
  {
   "cell_type": "code",
   "execution_count": 57,
   "id": "623ef6ef",
   "metadata": {},
   "outputs": [
    {
     "data": {
      "image/png": "[encoded data removed]",
      "text/plain": [
       "<Figure size 864x504 with 1 Axes>"
      ]
     },
     "metadata": {
      "needs_background": "light"
     },
     "output_type": "display_data"
    }
   ],
   "source": [
    "ranks = np.argsort(-forest.feature_importances_)\n",
    "f, ax = plt.subplots(figsize=(12, 7))\n",
    "sns.barplot(x=forest.feature_importances_[ranks], y=data.columns.values[ranks], orient='h')\n",
    "ax.set_xlabel(\"Importance Of Features in RandomForestClassifier\")\n",
    "plt.tight_layout()\n",
    "plt.show()"
   ]
  },
  {
   "cell_type": "markdown",
   "id": "db3a36b4",
   "metadata": {},
   "source": [
    "## support vector machine model"
   ]
  },
  {
   "cell_type": "code",
   "execution_count": 53,
   "id": "a7ee31b5",
   "metadata": {},
   "outputs": [
    {
     "name": "stdout",
     "output_type": "stream",
     "text": [
      "Support Vector Machine\n",
      "Accuracy on training set: 0.989\n",
      "Accuracy on test set: 0.974\n",
      "Precision, Recall and fscore: 0.9737118822292324 0.9737118822292324 0.9737118822292324\n"
     ]
    }
   ],
   "source": [
    "svm = SVC()\n",
    "svm.fit(X_train_std, y_train)\n",
    "\n",
    "print(\"Support Vector Machine\")\n",
    "print(\"Accuracy on training set: {:.3f}\".format(svm.score(X_train_std, y_train)))\n",
    "print(\"Accuracy on test set: {:.3f}\".format(svm.score(X_test_std, y_test)))\n",
    "\n",
    "y_pred_sm = svm.predict(X_test_std)\n",
    "\n",
    "precision, recall, fscore, support = precision_recall_fscore_support(y_test, y_pred_sm, average='micro')\n",
    "print(\"Precision, Recall and fscore:\",precision, recall, fscore,)"
   ]
  },
  {
   "cell_type": "markdown",
   "id": "81f57722",
   "metadata": {},
   "source": [
    "# XGB Classifier "
   ]
  },
  {
   "cell_type": "code",
   "execution_count": 71,
   "id": "7e5d8709",
   "metadata": {},
   "outputs": [
    {
     "name": "stderr",
     "output_type": "stream",
     "text": [
      "C:\\Users\\TOSHIBA\\anaconda3\\lib\\site-packages\\xgboost\\sklearn.py:1224: UserWarning: The use of label encoder in XGBClassifier is deprecated and will be removed in a future release. To remove this warning, do the following: 1) Pass option use_label_encoder=False when constructing XGBClassifier object; and 2) Encode your labels (y) as integers starting with 0, i.e. 0, 1, 2, ..., [num_class - 1].\n",
      "  warnings.warn(label_encoder_deprecation_msg, UserWarning)\n"
     ]
    },
    {
     "name": "stdout",
     "output_type": "stream",
     "text": [
      "[20:18:27] WARNING: ..\\src\\learner.cc:1115: Starting in XGBoost 1.3.0, the default evaluation metric used with the objective 'binary:logistic' was changed from 'error' to 'logloss'. Explicitly set eval_metric if you'd like to restore the old behavior.\n",
      "Support Vector Machine\n",
      "Accuracy on training set: 0.832\n",
      "Accuracy on test set: 0.579\n",
      "Precision, Recall and fscore: 0.5793901156677181 0.5793901156677181 0.5793901156677181\n"
     ]
    }
   ],
   "source": [
    "xgb = XGBClassifier(max_depth=3, n_estimators=300, learning_rate=0.05)\n",
    "xgb.fit(X_train_std, y_train)\n",
    "\n",
    "\n",
    "print(\"Support Vector Machine\")\n",
    "print(\"Accuracy on training set: {:.3f}\".format(xgb.score(X_train_std, y_train)))\n",
    "print(\"Accuracy on test set: {:.3f}\".format(xgb.score(X_test_std, y_test)))\n",
    "\n",
    "y_pred_sm = xgb.predict(X_test_std)\n",
    "\n",
    "precision, recall, fscore, support = precision_recall_fscore_support(y_test, y_pred_sm, average='micro')\n",
    "print(\"Precision, Recall and fscore:\",precision, recall, fscore,)"
   ]
  },
  {
   "cell_type": "markdown",
   "id": "cea74bec",
   "metadata": {},
   "source": [
    "# Feature Important"
   ]
  },
  {
   "cell_type": "code",
   "execution_count": 73,
   "id": "15022bb5",
   "metadata": {},
   "outputs": [
    {
     "data": {
      "image/png": "[encoded data removed]",
      "text/plain": [
       "<Figure size 864x504 with 1 Axes>"
      ]
     },
     "metadata": {
      "needs_background": "light"
     },
     "output_type": "display_data"
    }
   ],
   "source": [
    "ranks = np.argsort(-xgb.feature_importances_)\n",
    "f, ax = plt.subplots(figsize=(12, 7))\n",
    "\n",
    "sns.barplot(x=xgb.feature_importances_[ranks], y=data.columns.values[ranks], orient='h')\n",
    "ax.set_xlabel(\"Importance Of Features in XGBClassifier\")\n",
    "plt.tight_layout()\n",
    "plt.show()"
   ]
  },
  {
   "cell_type": "markdown",
   "id": "bb26a573",
   "metadata": {},
   "source": [
    "# Testing with Real audio clips wav files\n",
    "#### I will remove some features from the dataset due to the correlation with other features and some other could not calculate it using python\n",
    "### Pythonسأزيل بعض الميزات من مجموعة البيانات نظرًا لارتباطها بميزات أخرى والبعض الاخر  لم أتمكن من حسابها باستخدام \n",
    "لذلك سوف أقوم بتدريب النموذج بهذه الميزات واختبار النموذج المدرب بمقاطع صوتية حقيقية\n",
    "\n",
    "سنعتمد الان في التدريب على الميزات التالية :\n",
    "\n",
    "* meanfreq : mean frequency (in kHz)\n",
    "* sd : standard deviation of frequency\n",
    "* median : median frequency (in kHz)\n",
    "* Q25 : first quantile (in kHz)\n",
    "* Q75 : third quantile (in kHz)\n",
    "* IQR : interquantile range (in kHz)\n",
    "* skew : skewness\n",
    "* kurt : kurtosis\n",
    "* sfm : spectral flatness\n",
    "* mode : mode frequency"
   ]
  },
  {
   "cell_type": "markdown",
   "id": "76d521dc",
   "metadata": {},
   "source": [
    "## Drop unwanted features "
   ]
  },
  {
   "cell_type": "code",
   "execution_count": 130,
   "id": "80ad4971",
   "metadata": {},
   "outputs": [],
   "source": [
    "data_droped_features = data.drop(['centroid', 'modindx', 'dfrange', 'maxdom', 'mindom', 'meandom', 'meanfun', 'minfun', 'maxfun'], axis=1)\n"
   ]
  },
  {
   "cell_type": "code",
   "execution_count": 131,
   "id": "b931ba6d",
   "metadata": {},
   "outputs": [],
   "source": [
    "X_Dropped, y_Dropped = data_droped_features.iloc[:, :-1].values, data.iloc[:, -1].values\n",
    "\n",
    "X_train_Dropped, X_test_Dropped, y_train_Dropped, y_test_Dropped =\\\n",
    "    train_test_split(X_Dropped, y_Dropped, \n",
    "                     test_size=0.3, \n",
    "                     random_state=0, \n",
    "                     stratify=y)\n",
    "\n",
    "stdsc_Dropped = StandardScaler()\n",
    "X_train_std_Dropped = stdsc.fit_transform(X_train_Dropped)\n",
    "X_test_std_Dropped = stdsc.transform(X_test_Dropped)\n"
   ]
  },
  {
   "cell_type": "markdown",
   "id": "faf507ef",
   "metadata": {},
   "source": [
    "# SVM model"
   ]
  },
  {
   "cell_type": "code",
   "execution_count": 132,
   "id": "3221db93",
   "metadata": {},
   "outputs": [
    {
     "name": "stdout",
     "output_type": "stream",
     "text": [
      "Support Vector Machine\n",
      "Accuracy on training set: 0.950\n",
      "Accuracy on test set: 0.940\n",
      "Precision, Recall and fscore: 0.9400630914826499 0.9400630914826499 0.9400630914826499\n"
     ]
    }
   ],
   "source": [
    "svm = SVC()\n",
    "svm.fit(X_train_std_Dropped, y_train_Dropped)\n",
    "\n",
    "print(\"Support Vector Machine\")\n",
    "print(\"Accuracy on training set: {:.3f}\".format(svm.score(X_train_std_Dropped, y_train_Dropped)))\n",
    "print(\"Accuracy on test set: {:.3f}\".format(svm.score(X_test_std_Dropped, y_test_Dropped)))\n",
    "\n",
    "y_pred_sm = svm.predict(X_test_std_Dropped)\n",
    "\n",
    "precision, recall, fscore, support = precision_recall_fscore_support(y_test_Dropped, y_pred_sm, average='micro')\n",
    "print(\"Precision, Recall and fscore:\",precision, recall, fscore,)"
   ]
  },
  {
   "cell_type": "code",
   "execution_count": 164,
   "id": "316b1156",
   "metadata": {},
   "outputs": [],
   "source": [
    "def feature_freq_extraction(x):\n",
    "    freqs = np.fft.fftfreq(x.size)\n",
    "    mean = np.mean(freqs)\n",
    "    std = np.std(freqs) \n",
    "    maxv = np.amax(freqs) \n",
    "    minv = np.amin(freqs) \n",
    "    median = np.median(freqs)\n",
    "    skew = scipy.stats.skew(freqs)\n",
    "    kurt = scipy.stats.kurtosis(freqs)\n",
    "    q1 = np.quantile(freqs, 0.25)\n",
    "    q3 = np.quantile(freqs, 0.75)\n",
    "    mode = scipy.stats.mode(freqs)[0][0]\n",
    "    iqr = scipy.stats.iqr(freqs)\n",
    "    \n",
    "    return [mean, std, maxv, minv, median, skew, kurt, q1, q3, mode, iqr]"
   ]
  },
  {
   "cell_type": "code",
   "execution_count": 167,
   "id": "a0910844",
   "metadata": {},
   "outputs": [
    {
     "name": "stdout",
     "output_type": "stream",
     "text": [
      "Predicted: male the true label is: Male\n"
     ]
    }
   ],
   "source": [
    "import scipy.io.wavfile as wav\n",
    "\n",
    "\n",
    "(rate, sig) = wav.read('test2-M.wav')\n",
    "\n",
    "real_voice_test = feature_freq_extraction(sig)\n",
    "\n",
    "\n",
    "y_predicted = svm.predict([real_voice_test])\n",
    "print(\"Predicted:\" ,y_predicted[0] , \"the true label is: Male\")"
   ]
  },
  {
   "cell_type": "code",
   "execution_count": 169,
   "id": "f6534e19",
   "metadata": {},
   "outputs": [
    {
     "name": "stdout",
     "output_type": "stream",
     "text": [
      "Predicted: male the true label is: Female\n"
     ]
    }
   ],
   "source": [
    "(rate, sig) = wav.read('test1-F.wav')\n",
    "\n",
    "real_voice_test = feature_freq_extraction(sig)\n",
    "\n",
    "y_predicted = svm.predict([real_voice_test])\n",
    "print(\"Predicted:\" ,y_predicted[0] , \"the true label is: Female\")\n"
   ]
  },
  {
   "cell_type": "code",
   "execution_count": 170,
   "id": "a61a9abf",
   "metadata": {},
   "outputs": [
    {
     "name": "stdout",
     "output_type": "stream",
     "text": [
      "Predicted: male the true label is: Male\n"
     ]
    }
   ],
   "source": [
    "(rate, sig) = wav.read('test3-M.wav')\n",
    "\n",
    "real_voice_test = feature_freq_extraction(sig)\n",
    "\n",
    "y_predicted = svm.predict([real_voice_test])\n",
    "print(\"Predicted:\" ,y_predicted[0] , \"the true label is: Male\")\n",
    "\n"
   ]
  },
  {
   "cell_type": "code",
   "execution_count": null,
   "id": "42ff17a9",
   "metadata": {},
   "outputs": [],
   "source": []
  }
 ],
 "metadata": {
  "kernelspec": {
   "display_name": "Python 3 (ipykernel)",
   "language": "python",
   "name": "python3"
  },
  "language_info": {
   "codemirror_mode": {
    "name": "ipython",
    "version": 3
   },
   "file_extension": ".py",
   "mimetype": "text/x-python",
   "name": "python",
   "nbconvert_exporter": "python",
   "pygments_lexer": "ipython3",
   "version": "3.9.12"
  }
 },
 "nbformat": 4,
 "nbformat_minor": 5
}
